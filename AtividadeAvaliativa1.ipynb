{
  "nbformat": 4,
  "nbformat_minor": 0,
  "metadata": {
    "colab": {
      "provenance": [],
      "authorship_tag": "ABX9TyMK/nq1FfhlJI05w8AL++VA",
      "include_colab_link": true
    },
    "kernelspec": {
      "name": "python3",
      "display_name": "Python 3"
    },
    "language_info": {
      "name": "python"
    }
  },
  "cells": [
    {
      "cell_type": "markdown",
      "metadata": {
        "id": "view-in-github",
        "colab_type": "text"
      },
      "source": [
        "<a href=\"https://colab.research.google.com/github/thiagomalpighi/Atividades/blob/main/AtividadeAvaliativa1.ipynb\" target=\"_parent\"><img src=\"https://colab.research.google.com/assets/colab-badge.svg\" alt=\"Open In Colab\"/></a>"
      ]
    },
    {
      "cell_type": "code",
      "source": [
        "# Exercício 1: Condicionais Simples\n",
        "declividade = input(\"Digite a declividade em porcentagem\")\n",
        "declividade = int(declividade)\n",
        "if declividade >= 0 and declividade <= 3:\n",
        "    print(\"Plano\")\n",
        "else:\n",
        "    print(\"Relevo Não é Plano\")"
      ],
      "metadata": {
        "colab": {
          "base_uri": "https://localhost:8080/"
        },
        "id": "eaug3xa2afJr",
        "outputId": "cc0842fb-dc49-424c-ea60-ec880a0e9572"
      },
      "execution_count": null,
      "outputs": [
        {
          "output_type": "stream",
          "name": "stdout",
          "text": [
            "Digite a declividade em porcentagem2\n",
            "Plano\n"
          ]
        }
      ]
    },
    {
      "cell_type": "code",
      "source": [
        "#Exercício 2: Estruturas Condicionais\n",
        "declividade = input(\"Digite o valor de declividade em porcentagem\")\n",
        "declividade = int(declividade)\n",
        "if declividade >= 0 and declividade < 3:\n",
        "    print(\"Relevo Plano\")\n",
        "elif declividade >= 3 and declividade < 8:\n",
        "    print(\"Suave-ondulado\")\n",
        "elif declividade >= 8 and declividade < 20:\n",
        "    print(\"Ondulado\")\n",
        "elif declividade >= 20 and declividade < 45:\n",
        "    print(\"Forte-ondulado\")\n",
        "elif declividade >= 45 and declividade <= 75:\n",
        "    print(\"Montanhoso\")\n",
        "else:\n",
        "    print(\"Escarpado\")\n",
        "\n"
      ],
      "metadata": {
        "colab": {
          "base_uri": "https://localhost:8080/"
        },
        "id": "YrzLE7rReBgU",
        "outputId": "d46f98e1-335a-4b71-c5c3-8a8293cb3b50"
      },
      "execution_count": null,
      "outputs": [
        {
          "output_type": "stream",
          "name": "stdout",
          "text": [
            "Digite o valor de declividade em porcentagem80\n",
            "Escarpado\n"
          ]
        }
      ]
    },
    {
      "cell_type": "code",
      "source": [
        "#Exercício 3: Verificação de Áreas Alagadas e Suscetibilidade a Deslizamentos\n",
        "area_alagada = False\n",
        "risco_deslizamento = True\n",
        "if area_alagada == True:\n",
        "    print('Area sujeita a alagamentos. Construção proibida')\n",
        "elif risco_deslizamento == True:\n",
        "    print('Terreneo com risco de deslizamento. Construção não recomendada')\n",
        "else:\n",
        "    print('Terreno seguro para construção')\n"
      ],
      "metadata": {
        "colab": {
          "base_uri": "https://localhost:8080/"
        },
        "id": "5jcx6y_gjxtw",
        "outputId": "7d1989f1-a3b0-4b4b-e589-eb48949c72f7"
      },
      "execution_count": null,
      "outputs": [
        {
          "output_type": "stream",
          "name": "stdout",
          "text": [
            "Terreneo com risco de deslizamento. Construção não recomendada\n"
          ]
        }
      ]
    },
    {
      "cell_type": "code",
      "source": [
        "#Exercício 4: Aninhamento de Declarações Condicionais\n",
        "declividade = input(\"Digite o valor da declividade em porcentagem\")\n",
        "declividade = int(declividade)\n",
        "zona_protegida = True\n",
        "if declividade > 20 and zona_protegida == True: print(\"Construção proibida\")\n",
        "if declividade > 20 and zona_protegida == False: print(\"Construção permitida com restrições\")\n",
        "if declividade <= 20: print(\"Construção permitida com supervisão\")\n",
        "\n"
      ],
      "metadata": {
        "colab": {
          "base_uri": "https://localhost:8080/"
        },
        "id": "MstCKlwXlViP",
        "outputId": "d08d84ec-f79c-4925-a297-a6fd90287264"
      },
      "execution_count": null,
      "outputs": [
        {
          "output_type": "stream",
          "name": "stdout",
          "text": [
            "Digite o valor da declividade em porcentagem22\n",
            "Construção proibida\n"
          ]
        }
      ]
    },
    {
      "cell_type": "code",
      "source": [
        "#Exercício 5: Loop for\n",
        "altitudes = [300, 450, 150, 600, 700]\n",
        "for altitude in altitudes: print(altitude)\n"
      ],
      "metadata": {
        "colab": {
          "base_uri": "https://localhost:8080/"
        },
        "id": "UxzX1rhgpUCK",
        "outputId": "eed4ba4e-9ec8-4624-9995-fa8148469d50"
      },
      "execution_count": null,
      "outputs": [
        {
          "output_type": "stream",
          "name": "stdout",
          "text": [
            "300\n",
            "450\n",
            "150\n",
            "600\n",
            "700\n"
          ]
        }
      ]
    },
    {
      "cell_type": "code",
      "source": [
        "#Exercício 6: Função range()\n",
        "for X in range (500000, 505000, 1000): print(X)\n"
      ],
      "metadata": {
        "colab": {
          "base_uri": "https://localhost:8080/",
          "height": 0
        },
        "id": "XGBzlwfZ3whL",
        "outputId": "1c29dc6a-4d32-47f7-ad3c-ad6da777490c"
      },
      "execution_count": 68,
      "outputs": [
        {
          "output_type": "stream",
          "name": "stdout",
          "text": [
            "500000\n",
            "501000\n",
            "502000\n",
            "503000\n",
            "504000\n"
          ]
        }
      ]
    },
    {
      "cell_type": "code",
      "source": [
        "for Y in range (6200000, 6202500, 500): print(Y)"
      ],
      "metadata": {
        "colab": {
          "base_uri": "https://localhost:8080/",
          "height": 0
        },
        "id": "PalKyabM5KQy",
        "outputId": "e0b4e939-096d-4cdb-f922-a3bafb28d957"
      },
      "execution_count": 69,
      "outputs": [
        {
          "output_type": "stream",
          "name": "stdout",
          "text": [
            "6200000\n",
            "6200500\n",
            "6201000\n",
            "6201500\n",
            "6202000\n"
          ]
        }
      ]
    },
    {
      "cell_type": "code",
      "source": [
        "for X, Y in zip(range(500000, 505000, 1000), range(6200000, 6202500, 500)): print(\"coordenadas UTM(X,Y):\", X, Y)"
      ],
      "metadata": {
        "colab": {
          "base_uri": "https://localhost:8080/",
          "height": 0
        },
        "id": "8OyPr5kX5w6N",
        "outputId": "a6096566-ef5a-46b7-95e1-f614857c8846"
      },
      "execution_count": 74,
      "outputs": [
        {
          "output_type": "stream",
          "name": "stdout",
          "text": [
            "coordenadas UTM(X,Y): 500000 6200000\n",
            "coordenadas UTM(X,Y): 501000 6200500\n",
            "coordenadas UTM(X,Y): 502000 6201000\n",
            "coordenadas UTM(X,Y): 503000 6201500\n",
            "coordenadas UTM(X,Y): 504000 6202000\n"
          ]
        }
      ]
    },
    {
      "cell_type": "code",
      "source": [
        "#Exercício 7: List Comprehension\n",
        "for x in range(1000, 11000, 1000): print(x)\n"
      ],
      "metadata": {
        "colab": {
          "base_uri": "https://localhost:8080/",
          "height": 0
        },
        "id": "b_S4z_7l-hwi",
        "outputId": "7d689fe1-8072-4dd7-bcae-7011c156ca35"
      },
      "execution_count": 105,
      "outputs": [
        {
          "output_type": "stream",
          "name": "stdout",
          "text": [
            "1000\n",
            "2000\n",
            "3000\n",
            "4000\n",
            "5000\n",
            "6000\n",
            "7000\n",
            "8000\n",
            "9000\n",
            "10000\n"
          ]
        }
      ]
    },
    {
      "cell_type": "code",
      "source": [
        "#Exercício 8: Loop while\n",
        "altitude_inicial = 100\n",
        "incremento = 50\n",
        "while altitude_inicial < 500:\n",
        "    print(altitude_inicial)\n",
        "    altitude_inicial += incremento"
      ],
      "metadata": {
        "colab": {
          "base_uri": "https://localhost:8080/",
          "height": 0
        },
        "id": "I9wvHfBfHnTz",
        "outputId": "f2162500-7239-46b3-a622-6334b38123c3"
      },
      "execution_count": 108,
      "outputs": [
        {
          "output_type": "stream",
          "name": "stdout",
          "text": [
            "100\n",
            "150\n",
            "200\n",
            "250\n",
            "300\n",
            "350\n",
            "400\n",
            "450\n"
          ]
        }
      ]
    },
    {
      "cell_type": "code",
      "source": [
        "#Exercício 9: controle de Loop com Break\n",
        "declividade = input(\"Digite o valor da declividade em porcentagem\")\n",
        "declividade = int(declividade)\n",
        "while True:\n",
        "  if declividade > 50:\n",
        "    print(\"Declividade Muito Alta. Entrada interrompida\")\n",
        "    break"
      ],
      "metadata": {
        "colab": {
          "base_uri": "https://localhost:8080/",
          "height": 0
        },
        "id": "1yr9rOEnT2KY",
        "outputId": "8615ea42-6a71-4370-c45a-e145415026dd"
      },
      "execution_count": 137,
      "outputs": [
        {
          "output_type": "stream",
          "name": "stdout",
          "text": [
            "Digite o valor da declividade em porcentagem80\n",
            "Declividade Muito Alta. Entrada interrompida\n"
          ]
        }
      ]
    },
    {
      "cell_type": "code",
      "source": [
        "#Exercício 10: Funções – Cálculo de Área\n",
        "comprimento = 100\n",
        "largura = 50\n",
        "def calcula_area(comprimento, largura):\n",
        "    area = comprimento * largura\n",
        "    return area\n",
        "print(calcula_area(comprimento, largura))\n"
      ],
      "metadata": {
        "colab": {
          "base_uri": "https://localhost:8080/",
          "height": 0
        },
        "id": "iFt-IrUrTaXI",
        "outputId": "136e8617-d96e-4f54-8e35-5fa22f3f152f"
      },
      "execution_count": 146,
      "outputs": [
        {
          "output_type": "stream",
          "name": "stdout",
          "text": [
            "5000\n"
          ]
        }
      ]
    },
    {
      "cell_type": "code",
      "source": [
        "#Exercício 11: Funções – Cálculo de Densidade Demográfica\n",
        "população = 68000\n",
        "area = 326\n",
        "def calcula_densidade(população, area):\n",
        "    densidade = população / area\n",
        "    return densidade\n",
        "print(calcula_densidade(população, area))\n",
        "\n"
      ],
      "metadata": {
        "colab": {
          "base_uri": "https://localhost:8080/",
          "height": 0
        },
        "id": "CTYzgIGaX4Kh",
        "outputId": "0d7ce953-a1ad-4109-da93-540503d673aa"
      },
      "execution_count": 157,
      "outputs": [
        {
          "output_type": "stream",
          "name": "stdout",
          "text": [
            "208.58895705521473\n"
          ]
        }
      ]
    },
    {
      "cell_type": "code",
      "source": [
        "#Exercício 12: Módulos e Pacotes – Importando o Módulo math\n",
        "import math\n",
        "math.sqrt(25000)\n",
        "print(math.sqrt(25000))"
      ],
      "metadata": {
        "colab": {
          "base_uri": "https://localhost:8080/",
          "height": 0
        },
        "id": "YZmW0iSOZ6Sh",
        "outputId": "03972242-5819-4759-ba7e-0193fa124df5"
      },
      "execution_count": 160,
      "outputs": [
        {
          "output_type": "stream",
          "name": "stdout",
          "text": [
            "158.11388300841898\n"
          ]
        }
      ]
    },
    {
      "cell_type": "code",
      "source": [
        "#Exercício 13: Funções Lambda – Cálculo do Dobro da Área\n",
        "area = 1500\n",
        "dobro_area = lambda area: area * 2\n",
        "print(dobro_area(area))"
      ],
      "metadata": {
        "colab": {
          "base_uri": "https://localhost:8080/",
          "height": 0
        },
        "id": "QrBZaRXnY3Vs",
        "outputId": "04201c8e-7db1-4914-82aa-d05750131b1d"
      },
      "execution_count": 163,
      "outputs": [
        {
          "output_type": "stream",
          "name": "stdout",
          "text": [
            "3000\n"
          ]
        }
      ]
    },
    {
      "cell_type": "code",
      "source": [
        "#Exercicio 14: Tratamento de exceções\n",
        "int(input(\"Digite um número\"))\n",
        "\n"
      ],
      "metadata": {
        "colab": {
          "base_uri": "https://localhost:8080/",
          "height": 0
        },
        "id": "5s3WcThqhmV_",
        "outputId": "68b2b578-b3a9-426d-9b51-d764e5f82199"
      },
      "execution_count": 182,
      "outputs": [
        {
          "name": "stdout",
          "output_type": "stream",
          "text": [
            "Digite um número10\n"
          ]
        },
        {
          "output_type": "execute_result",
          "data": {
            "text/plain": [
              "10"
            ]
          },
          "metadata": {},
          "execution_count": 182
        }
      ]
    },
    {
      "cell_type": "code",
      "source": [
        "# Exercício 15: Trabalhando com Datas e Horas – Módulo datetime\n",
        "import datetime\n",
        "data_atual = datetime.datetime.now()\n",
        "print(data_atual)\n",
        "\n"
      ],
      "metadata": {
        "colab": {
          "base_uri": "https://localhost:8080/",
          "height": 0
        },
        "id": "A-s5ROZak1sO",
        "outputId": "743f9b6d-6d8c-4c01-d9e1-b019af77f3d2"
      },
      "execution_count": 201,
      "outputs": [
        {
          "output_type": "stream",
          "name": "stdout",
          "text": [
            "2024-11-10 20:12:53.947392\n"
          ]
        }
      ]
    },
    {
      "cell_type": "code",
      "source": [
        "print(data_atual.strftime(\"%d/%m/%Y\"))"
      ],
      "metadata": {
        "colab": {
          "base_uri": "https://localhost:8080/",
          "height": 0
        },
        "id": "KGqo2wtItVAv",
        "outputId": "9b0bca0f-22c8-43a9-f06d-2e3b52f239c6"
      },
      "execution_count": 202,
      "outputs": [
        {
          "output_type": "stream",
          "name": "stdout",
          "text": [
            "10/11/2024\n"
          ]
        }
      ]
    },
    {
      "cell_type": "code",
      "source": [
        "print(data_atual.strftime(\"%d/%m/%Y %H:%M:%S\"))"
      ],
      "metadata": {
        "colab": {
          "base_uri": "https://localhost:8080/",
          "height": 0
        },
        "id": "N1NeKbBVtkfv",
        "outputId": "2bf59aa1-d9b5-4c15-83b6-dd8fb2d4648e"
      },
      "execution_count": 203,
      "outputs": [
        {
          "output_type": "stream",
          "name": "stdout",
          "text": [
            "10/11/2024 20:12:53\n"
          ]
        }
      ]
    }
  ]
}