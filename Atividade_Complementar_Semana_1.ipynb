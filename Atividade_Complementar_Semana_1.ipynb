{
  "nbformat": 4,
  "nbformat_minor": 0,
  "metadata": {
    "colab": {
      "provenance": [],
      "authorship_tag": "ABX9TyPiK3O/sbWOf5LgNjBDDHTt",
      "include_colab_link": true
    },
    "kernelspec": {
      "name": "python3",
      "display_name": "Python 3"
    },
    "language_info": {
      "name": "python"
    }
  },
  "cells": [
    {
      "cell_type": "markdown",
      "metadata": {
        "id": "view-in-github",
        "colab_type": "text"
      },
      "source": [
        "<a href=\"https://colab.research.google.com/github/thiagomalpighi/Atividades/blob/main/Atividade_Complementar_Semana_1.ipynb\" target=\"_parent\"><img src=\"https://colab.research.google.com/assets/colab-badge.svg\" alt=\"Open In Colab\"/></a>"
      ]
    },
    {
      "cell_type": "markdown",
      "source": [],
      "metadata": {
        "id": "JOtvPp9RNvqb"
      }
    },
    {
      "cell_type": "markdown",
      "source": [
        "Exercício 1: Variáveis e Impressões de Dados\n"
      ],
      "metadata": {
        "id": "4hmaKI2gNR2U"
      }
    },
    {
      "cell_type": "code",
      "source": [
        "cidade = 'Peruíbe'\n",
        "print(cidade)"
      ],
      "metadata": {
        "colab": {
          "base_uri": "https://localhost:8080/"
        },
        "id": "gQ61g3BeNtMb",
        "outputId": "f8ea73ae-76c4-4075-90ae-b8fd51bae42e"
      },
      "execution_count": 1,
      "outputs": [
        {
          "output_type": "stream",
          "name": "stdout",
          "text": [
            "Peruíbe\n"
          ]
        }
      ]
    },
    {
      "cell_type": "markdown",
      "source": [
        "Exercício 2: Entrada de dados"
      ],
      "metadata": {
        "id": "Z4StKV1DOCDw"
      }
    },
    {
      "cell_type": "code",
      "source": [
        "area = input('Digite a área do município em km²')"
      ],
      "metadata": {
        "colab": {
          "base_uri": "https://localhost:8080/"
        },
        "id": "xCCwglksOFeY",
        "outputId": "cc0ea06b-9cd6-4e05-c2d9-ac0a4bf0685c"
      },
      "execution_count": 2,
      "outputs": [
        {
          "name": "stdout",
          "output_type": "stream",
          "text": [
            "Digite a área do município em km²326\n"
          ]
        }
      ]
    },
    {
      "cell_type": "code",
      "source": [
        "print(area)"
      ],
      "metadata": {
        "colab": {
          "base_uri": "https://localhost:8080/"
        },
        "id": "FD4UtatbQMNX",
        "outputId": "b90991bb-0fdc-42b9-9306-ec8bd5d7f7d8"
      },
      "execution_count": 3,
      "outputs": [
        {
          "output_type": "stream",
          "name": "stdout",
          "text": [
            "326\n"
          ]
        }
      ]
    },
    {
      "cell_type": "markdown",
      "source": [
        "Exercício 3: Tipos de Dados - Inteiros e Floats"
      ],
      "metadata": {
        "id": "eKuPR37QQhVa"
      }
    },
    {
      "cell_type": "code",
      "source": [
        "habitantes = input('Digite o número de habitantes do município')"
      ],
      "metadata": {
        "colab": {
          "base_uri": "https://localhost:8080/"
        },
        "id": "OLSlA0MPQpHD",
        "outputId": "627f5c36-9976-4e0c-8565-4145496596b4"
      },
      "execution_count": 4,
      "outputs": [
        {
          "name": "stdout",
          "output_type": "stream",
          "text": [
            "Digite o número de habitantes do município68000\n"
          ]
        }
      ]
    },
    {
      "cell_type": "code",
      "source": [
        "altitude = input('Digite a altitude média da cidade em metros')"
      ],
      "metadata": {
        "colab": {
          "base_uri": "https://localhost:8080/"
        },
        "id": "_uzFcRXqQZ4R",
        "outputId": "29cee85b-2349-41d1-ca6b-d5946b73c641"
      },
      "execution_count": 5,
      "outputs": [
        {
          "name": "stdout",
          "output_type": "stream",
          "text": [
            "Digite a altitude média da cidade em metros6\n"
          ]
        }
      ]
    },
    {
      "cell_type": "code",
      "source": [
        "print(habitantes)"
      ],
      "metadata": {
        "colab": {
          "base_uri": "https://localhost:8080/"
        },
        "id": "BU7h6G6mRTer",
        "outputId": "db9fc0fd-d731-4450-cdce-739baeee0d50"
      },
      "execution_count": 6,
      "outputs": [
        {
          "output_type": "stream",
          "name": "stdout",
          "text": [
            "68000\n"
          ]
        }
      ]
    },
    {
      "cell_type": "code",
      "source": [
        "print(altitude)"
      ],
      "metadata": {
        "colab": {
          "base_uri": "https://localhost:8080/"
        },
        "id": "etUNHlHgRaFx",
        "outputId": "4665fb27-e695-40c9-c467-edb48131a072"
      },
      "execution_count": 7,
      "outputs": [
        {
          "output_type": "stream",
          "name": "stdout",
          "text": [
            "6\n"
          ]
        }
      ]
    },
    {
      "cell_type": "markdown",
      "source": [
        "Exercício 4 - Operadores Aritiméticos"
      ],
      "metadata": {
        "id": "9sMJwUxERgMZ"
      }
    },
    {
      "cell_type": "code",
      "source": [
        "populacao_urbana = input('Digite o número de habitantes da área urbana')"
      ],
      "metadata": {
        "colab": {
          "base_uri": "https://localhost:8080/"
        },
        "id": "dICneuuoRn6G",
        "outputId": "5297f2d7-8b61-4a2c-f6af-a19c0ea65807"
      },
      "execution_count": 17,
      "outputs": [
        {
          "name": "stdout",
          "output_type": "stream",
          "text": [
            "Digite o número de habitantes da área urbana66000\n"
          ]
        }
      ]
    },
    {
      "cell_type": "code",
      "source": [
        "populacao_rural = input('Digite o número de habitantes da zona rural')"
      ],
      "metadata": {
        "colab": {
          "base_uri": "https://localhost:8080/"
        },
        "id": "BP4zcs80SMXj",
        "outputId": "ab68bf6a-0814-4b07-930b-eb35e5cf3cc8"
      },
      "execution_count": 19,
      "outputs": [
        {
          "name": "stdout",
          "output_type": "stream",
          "text": [
            "Digite o número de habitantes da zona rural2000\n"
          ]
        }
      ]
    },
    {
      "cell_type": "markdown",
      "source": [
        "Somando a populacao urbana e rural"
      ],
      "metadata": {
        "id": "QVoAsoEfUdjx"
      }
    },
    {
      "cell_type": "code",
      "source": [
        "66000 + 2000"
      ],
      "metadata": {
        "colab": {
          "base_uri": "https://localhost:8080/"
        },
        "id": "mLSNuDDMUggA",
        "outputId": "e5f5bdbd-9f96-4aad-faa0-21d1f8fa7219"
      },
      "execution_count": 20,
      "outputs": [
        {
          "output_type": "execute_result",
          "data": {
            "text/plain": [
              "68000"
            ]
          },
          "metadata": {},
          "execution_count": 20
        }
      ]
    },
    {
      "cell_type": "code",
      "source": [
        "populacao_total = 68000"
      ],
      "metadata": {
        "id": "GvrDey5KUyMu"
      },
      "execution_count": 21,
      "outputs": []
    },
    {
      "cell_type": "code",
      "source": [
        "print(populacao_total)"
      ],
      "metadata": {
        "colab": {
          "base_uri": "https://localhost:8080/"
        },
        "id": "Hd2uoDDzU3Yy",
        "outputId": "59bff9cb-1e05-4166-ba74-62d809203f26"
      },
      "execution_count": 22,
      "outputs": [
        {
          "output_type": "stream",
          "name": "stdout",
          "text": [
            "68000\n"
          ]
        }
      ]
    },
    {
      "cell_type": "markdown",
      "source": [
        "Exercício 5: Booleanos – Comparação de Números"
      ],
      "metadata": {
        "id": "M6M4fWtrU_na"
      }
    },
    {
      "cell_type": "code",
      "source": [
        "area1_km2 = 250"
      ],
      "metadata": {
        "id": "OzhIhv5UVbRZ"
      },
      "execution_count": 26,
      "outputs": []
    },
    {
      "cell_type": "code",
      "source": [
        "area2_km2 = 150"
      ],
      "metadata": {
        "id": "pcUwx0_FVgZD"
      },
      "execution_count": 27,
      "outputs": []
    },
    {
      "cell_type": "code",
      "source": [
        "area1_km2 > area2_km2"
      ],
      "metadata": {
        "colab": {
          "base_uri": "https://localhost:8080/"
        },
        "id": "58NCcLr8Vi4T",
        "outputId": "0888be9e-b3c9-44bf-8f93-a812b5fd5a83"
      },
      "execution_count": 28,
      "outputs": [
        {
          "output_type": "execute_result",
          "data": {
            "text/plain": [
              "True"
            ]
          },
          "metadata": {},
          "execution_count": 28
        }
      ]
    },
    {
      "cell_type": "code",
      "source": [
        "print(area1_km2 > area2_km2)"
      ],
      "metadata": {
        "colab": {
          "base_uri": "https://localhost:8080/"
        },
        "id": "_B8ML8nGWJ25",
        "outputId": "eace5fe9-316d-4eb7-f942-82ab7bb80fd9"
      },
      "execution_count": 29,
      "outputs": [
        {
          "output_type": "stream",
          "name": "stdout",
          "text": [
            "True\n"
          ]
        }
      ]
    },
    {
      "cell_type": "markdown",
      "source": [
        "Exercício 6: Listas – Criando e Acessando Elementos\n"
      ],
      "metadata": {
        "id": "yhIA4TxzWVfp"
      }
    },
    {
      "cell_type": "code",
      "source": [
        "biomas = ['Amazônia', 'Cerrado', 'Pantanal']"
      ],
      "metadata": {
        "id": "KBYe8Gx6WXgR"
      },
      "execution_count": 30,
      "outputs": []
    },
    {
      "cell_type": "code",
      "source": [
        "segundo_bioma = biomas[1]"
      ],
      "metadata": {
        "id": "4uzPfQGWW6iQ"
      },
      "execution_count": 34,
      "outputs": []
    },
    {
      "cell_type": "code",
      "source": [
        "print(segundo_bioma)"
      ],
      "metadata": {
        "colab": {
          "base_uri": "https://localhost:8080/"
        },
        "id": "mMqOUi1uXMUf",
        "outputId": "587a8fa9-5217-4d97-f678-4f7214f664c8"
      },
      "execution_count": 35,
      "outputs": [
        {
          "output_type": "stream",
          "name": "stdout",
          "text": [
            "Cerrado\n"
          ]
        }
      ]
    },
    {
      "cell_type": "markdown",
      "source": [
        "Exercício 7: Usando append() para Adicionar um Novo Bioma\n"
      ],
      "metadata": {
        "id": "JxZqYHRhXgyB"
      }
    },
    {
      "cell_type": "code",
      "source": [
        "biomas.append('Mata Atlântica')"
      ],
      "metadata": {
        "id": "baLQdo8tXi9b"
      },
      "execution_count": 36,
      "outputs": []
    },
    {
      "cell_type": "code",
      "source": [
        "print(biomas)"
      ],
      "metadata": {
        "colab": {
          "base_uri": "https://localhost:8080/"
        },
        "id": "1czYjsCXX2M_",
        "outputId": "8c832218-390e-45eb-b373-a2fb0502740a"
      },
      "execution_count": 37,
      "outputs": [
        {
          "output_type": "stream",
          "name": "stdout",
          "text": [
            "['Amazônia', 'Cerrado', 'Pantanal', 'Mata Atlântica']\n"
          ]
        }
      ]
    },
    {
      "cell_type": "markdown",
      "source": [
        "Exercício 8: Contando Elementos em uma Lista"
      ],
      "metadata": {
        "id": "BFku8j5WX78-"
      }
    },
    {
      "cell_type": "code",
      "source": [
        "len(biomas)"
      ],
      "metadata": {
        "colab": {
          "base_uri": "https://localhost:8080/"
        },
        "id": "YLZi4bY8X82T",
        "outputId": "73078acf-2e25-4cb9-8853-fe440e0d5d63"
      },
      "execution_count": 38,
      "outputs": [
        {
          "output_type": "execute_result",
          "data": {
            "text/plain": [
              "4"
            ]
          },
          "metadata": {},
          "execution_count": 38
        }
      ]
    },
    {
      "cell_type": "code",
      "source": [
        "print(len(biomas))"
      ],
      "metadata": {
        "colab": {
          "base_uri": "https://localhost:8080/"
        },
        "id": "nlYbK3wxYWtM",
        "outputId": "88efc4c1-254a-4478-c379-cf44c94e0b58"
      },
      "execution_count": 40,
      "outputs": [
        {
          "output_type": "stream",
          "name": "stdout",
          "text": [
            "4\n"
          ]
        }
      ]
    },
    {
      "cell_type": "markdown",
      "source": [
        "Exercício 9: Armazenamento de Coordenadas Geográficas em uma Tupla\n"
      ],
      "metadata": {
        "id": "I4_6063oYgRZ"
      }
    },
    {
      "cell_type": "code",
      "source": [
        "coordenadas_latlong_brasilia = (-15.7939, -47.8828)"
      ],
      "metadata": {
        "id": "92vWEMy8YhVN"
      },
      "execution_count": 41,
      "outputs": []
    },
    {
      "cell_type": "code",
      "source": [
        "print(coordenadas_latlong_brasilia)"
      ],
      "metadata": {
        "colab": {
          "base_uri": "https://localhost:8080/"
        },
        "id": "PlZt4LaSZTr0",
        "outputId": "902df6db-92c9-4627-c1b4-1732d112d575"
      },
      "execution_count": 42,
      "outputs": [
        {
          "output_type": "stream",
          "name": "stdout",
          "text": [
            "(-15.7939, -47.8828)\n"
          ]
        }
      ]
    },
    {
      "cell_type": "markdown",
      "source": [
        "Exercício 10: Criação e Manipulação de um Dicionário"
      ],
      "metadata": {
        "id": "v5kiOpTIZaen"
      }
    },
    {
      "cell_type": "code",
      "source": [
        "dados_municipio = {\n",
        "    'nome':'São Paulo',\n",
        "    'populacao': 12325232,\n",
        "    'area_km2': 1521.11,\n",
        "}"
      ],
      "metadata": {
        "id": "79dgNWqxabcM"
      },
      "execution_count": 45,
      "outputs": []
    },
    {
      "cell_type": "code",
      "source": [
        "dados_municipio['densidade_demografica'] = 12325232/1521.11"
      ],
      "metadata": {
        "id": "8DmO0It6a-o6"
      },
      "execution_count": 48,
      "outputs": []
    },
    {
      "cell_type": "code",
      "source": [
        "print(dados_municipio)"
      ],
      "metadata": {
        "colab": {
          "base_uri": "https://localhost:8080/"
        },
        "id": "dqowJGP_ba0o",
        "outputId": "b7bd0f50-cf2f-4877-8857-cf495c342bfd"
      },
      "execution_count": 49,
      "outputs": [
        {
          "output_type": "stream",
          "name": "stdout",
          "text": [
            "{'nome': 'São Paulo', 'populacao': 12325232, 'area_km2': 1521.11, 'densidade_demografica': 8102.788095535498}\n"
          ]
        }
      ]
    },
    {
      "cell_type": "code",
      "source": [],
      "metadata": {
        "id": "vuxLJ6eHbiBS"
      },
      "execution_count": null,
      "outputs": []
    }
  ]
}